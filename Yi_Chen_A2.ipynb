{
  "nbformat": 4,
  "nbformat_minor": 0,
  "metadata": {
    "colab": {
      "name": "Yi Chen_A2.ipynb",
      "provenance": [],
      "collapsed_sections": [
        "4KC6PA-mcl6d",
        "OKY6gdEScnYV",
        "Jsj0S3S-_wzi",
        "MeR94ujrFmuI",
        "w9npZYI4jeb3",
        "CcZ2a5UpmTD-",
        "0jGlVz97nMaN",
        "1m6xnj_bfTAn"
      ],
      "toc_visible": true,
      "authorship_tag": "ABX9TyNMJXJKwzBH+e2cpDxQzpEN",
      "include_colab_link": true
    },
    "kernelspec": {
      "name": "python3",
      "display_name": "Python 3"
    }
  },
  "cells": [
    {
      "cell_type": "markdown",
      "metadata": {
        "id": "view-in-github",
        "colab_type": "text"
      },
      "source": [
        "<a href=\"https://colab.research.google.com/github/cheeya89/cy199889/blob/master/Yi_Chen_A2.ipynb\" target=\"_parent\"><img src=\"https://colab.research.google.com/assets/colab-badge.svg\" alt=\"Open In Colab\"/></a>"
      ]
    },
    {
      "cell_type": "markdown",
      "metadata": {
        "id": "4KC6PA-mcl6d",
        "colab_type": "text"
      },
      "source": [
        "# Q1\n",
        "\n"
      ]
    },
    {
      "cell_type": "code",
      "metadata": {
        "id": "K8A0xXDEdJ2A",
        "colab_type": "code",
        "colab": {}
      },
      "source": [
        "# To install package\n",
        "import pandas as pd\n",
        "# Import and read files, data turning is necessary\n",
        "df=pd.read_csv('Bank Data CSV.csv')\n",
        "listcolumns=['CustomerID','age', 'job', 'martial','education','balance','housing']\n",
        "df=pd.read_csv('Bank Data CSV.csv', names=listcolumns, header=None, skiprows=6)\n"
      ],
      "execution_count": 0,
      "outputs": []
    },
    {
      "cell_type": "code",
      "metadata": {
        "id": "m_VoDn-mh7Ua",
        "colab_type": "code",
        "outputId": "9e9a1e8e-4f74-4ae0-d706-9c243b3c8cb2",
        "colab": {
          "base_uri": "https://localhost:8080/",
          "height": 204
        }
      },
      "source": [
        "df.head()"
      ],
      "execution_count": 94,
      "outputs": [
        {
          "output_type": "execute_result",
          "data": {
            "text/html": [
              "<div>\n",
              "<style scoped>\n",
              "    .dataframe tbody tr th:only-of-type {\n",
              "        vertical-align: middle;\n",
              "    }\n",
              "\n",
              "    .dataframe tbody tr th {\n",
              "        vertical-align: top;\n",
              "    }\n",
              "\n",
              "    .dataframe thead th {\n",
              "        text-align: right;\n",
              "    }\n",
              "</style>\n",
              "<table border=\"1\" class=\"dataframe\">\n",
              "  <thead>\n",
              "    <tr style=\"text-align: right;\">\n",
              "      <th></th>\n",
              "      <th>CustomerID</th>\n",
              "      <th>age</th>\n",
              "      <th>job</th>\n",
              "      <th>martial</th>\n",
              "      <th>education</th>\n",
              "      <th>balance</th>\n",
              "      <th>housing</th>\n",
              "    </tr>\n",
              "  </thead>\n",
              "  <tbody>\n",
              "    <tr>\n",
              "      <th>0</th>\n",
              "      <td>0</td>\n",
              "      <td>58</td>\n",
              "      <td>management</td>\n",
              "      <td>married</td>\n",
              "      <td>tertiary</td>\n",
              "      <td>2143</td>\n",
              "      <td>yes</td>\n",
              "    </tr>\n",
              "    <tr>\n",
              "      <th>1</th>\n",
              "      <td>1</td>\n",
              "      <td>44</td>\n",
              "      <td>technician</td>\n",
              "      <td>single</td>\n",
              "      <td>secondary</td>\n",
              "      <td>29</td>\n",
              "      <td>yes</td>\n",
              "    </tr>\n",
              "    <tr>\n",
              "      <th>2</th>\n",
              "      <td>2</td>\n",
              "      <td>33</td>\n",
              "      <td>entrepreneur</td>\n",
              "      <td>married</td>\n",
              "      <td>secondary</td>\n",
              "      <td>2</td>\n",
              "      <td>yes</td>\n",
              "    </tr>\n",
              "    <tr>\n",
              "      <th>3</th>\n",
              "      <td>5</td>\n",
              "      <td>35</td>\n",
              "      <td>management</td>\n",
              "      <td>married</td>\n",
              "      <td>tertiary</td>\n",
              "      <td>231</td>\n",
              "      <td>yes</td>\n",
              "    </tr>\n",
              "    <tr>\n",
              "      <th>4</th>\n",
              "      <td>6</td>\n",
              "      <td>28</td>\n",
              "      <td>management</td>\n",
              "      <td>single</td>\n",
              "      <td>tertiary</td>\n",
              "      <td>447</td>\n",
              "      <td>yes</td>\n",
              "    </tr>\n",
              "  </tbody>\n",
              "</table>\n",
              "</div>"
            ],
            "text/plain": [
              "   CustomerID  age           job  martial  education  balance housing\n",
              "0           0   58    management  married   tertiary     2143     yes\n",
              "1           1   44    technician   single  secondary       29     yes\n",
              "2           2   33  entrepreneur  married  secondary        2     yes\n",
              "3           5   35    management  married   tertiary      231     yes\n",
              "4           6   28    management   single   tertiary      447     yes"
            ]
          },
          "metadata": {
            "tags": []
          },
          "execution_count": 94
        }
      ]
    },
    {
      "cell_type": "code",
      "metadata": {
        "id": "Piww2n4_i2NP",
        "colab_type": "code",
        "outputId": "534e153b-16db-43b0-99ba-6e65a12b9082",
        "colab": {
          "base_uri": "https://localhost:8080/",
          "height": 204
        }
      },
      "source": [
        "df2=pd.read_csv('Bank Data TXT.txt', delim_whitespace=True, encoding='utf-8')\n",
        "\n",
        "df2.head()"
      ],
      "execution_count": 95,
      "outputs": [
        {
          "output_type": "execute_result",
          "data": {
            "text/html": [
              "<div>\n",
              "<style scoped>\n",
              "    .dataframe tbody tr th:only-of-type {\n",
              "        vertical-align: middle;\n",
              "    }\n",
              "\n",
              "    .dataframe tbody tr th {\n",
              "        vertical-align: top;\n",
              "    }\n",
              "\n",
              "    .dataframe thead th {\n",
              "        text-align: right;\n",
              "    }\n",
              "</style>\n",
              "<table border=\"1\" class=\"dataframe\">\n",
              "  <thead>\n",
              "    <tr style=\"text-align: right;\">\n",
              "      <th></th>\n",
              "      <th>CustomerID</th>\n",
              "      <th>duration</th>\n",
              "      <th>campaign</th>\n",
              "      <th>response</th>\n",
              "    </tr>\n",
              "  </thead>\n",
              "  <tbody>\n",
              "    <tr>\n",
              "      <th>0</th>\n",
              "      <td>0</td>\n",
              "      <td>4.35</td>\n",
              "      <td>1</td>\n",
              "      <td>no</td>\n",
              "    </tr>\n",
              "    <tr>\n",
              "      <th>1</th>\n",
              "      <td>1</td>\n",
              "      <td>2.52</td>\n",
              "      <td>1</td>\n",
              "      <td>no</td>\n",
              "    </tr>\n",
              "    <tr>\n",
              "      <th>2</th>\n",
              "      <td>2</td>\n",
              "      <td>1.27</td>\n",
              "      <td>1</td>\n",
              "      <td>no</td>\n",
              "    </tr>\n",
              "    <tr>\n",
              "      <th>3</th>\n",
              "      <td>5</td>\n",
              "      <td>2.32</td>\n",
              "      <td>1</td>\n",
              "      <td>no</td>\n",
              "    </tr>\n",
              "    <tr>\n",
              "      <th>4</th>\n",
              "      <td>6</td>\n",
              "      <td>3.62</td>\n",
              "      <td>1</td>\n",
              "      <td>no</td>\n",
              "    </tr>\n",
              "  </tbody>\n",
              "</table>\n",
              "</div>"
            ],
            "text/plain": [
              "   CustomerID  duration  campaign response\n",
              "0           0      4.35         1       no\n",
              "1           1      2.52         1       no\n",
              "2           2      1.27         1       no\n",
              "3           5      2.32         1       no\n",
              "4           6      3.62         1       no"
            ]
          },
          "metadata": {
            "tags": []
          },
          "execution_count": 95
        }
      ]
    },
    {
      "cell_type": "code",
      "metadata": {
        "id": "9N2OYvQ0j1yA",
        "colab_type": "code",
        "outputId": "06ceb248-4b23-4535-d469-6547290a2611",
        "colab": {
          "base_uri": "https://localhost:8080/",
          "height": 224
        }
      },
      "source": [
        "# merge files:\n",
        "dfcombined=pd.merge(df,df2, on='CustomerID')\n",
        "dfcombined.head()"
      ],
      "execution_count": 96,
      "outputs": [
        {
          "output_type": "execute_result",
          "data": {
            "text/html": [
              "<div>\n",
              "<style scoped>\n",
              "    .dataframe tbody tr th:only-of-type {\n",
              "        vertical-align: middle;\n",
              "    }\n",
              "\n",
              "    .dataframe tbody tr th {\n",
              "        vertical-align: top;\n",
              "    }\n",
              "\n",
              "    .dataframe thead th {\n",
              "        text-align: right;\n",
              "    }\n",
              "</style>\n",
              "<table border=\"1\" class=\"dataframe\">\n",
              "  <thead>\n",
              "    <tr style=\"text-align: right;\">\n",
              "      <th></th>\n",
              "      <th>CustomerID</th>\n",
              "      <th>age</th>\n",
              "      <th>job</th>\n",
              "      <th>martial</th>\n",
              "      <th>education</th>\n",
              "      <th>balance</th>\n",
              "      <th>housing</th>\n",
              "      <th>duration</th>\n",
              "      <th>campaign</th>\n",
              "      <th>response</th>\n",
              "    </tr>\n",
              "  </thead>\n",
              "  <tbody>\n",
              "    <tr>\n",
              "      <th>0</th>\n",
              "      <td>0</td>\n",
              "      <td>58</td>\n",
              "      <td>management</td>\n",
              "      <td>married</td>\n",
              "      <td>tertiary</td>\n",
              "      <td>2143</td>\n",
              "      <td>yes</td>\n",
              "      <td>4.35</td>\n",
              "      <td>1</td>\n",
              "      <td>no</td>\n",
              "    </tr>\n",
              "    <tr>\n",
              "      <th>1</th>\n",
              "      <td>1</td>\n",
              "      <td>44</td>\n",
              "      <td>technician</td>\n",
              "      <td>single</td>\n",
              "      <td>secondary</td>\n",
              "      <td>29</td>\n",
              "      <td>yes</td>\n",
              "      <td>2.52</td>\n",
              "      <td>1</td>\n",
              "      <td>no</td>\n",
              "    </tr>\n",
              "    <tr>\n",
              "      <th>2</th>\n",
              "      <td>2</td>\n",
              "      <td>33</td>\n",
              "      <td>entrepreneur</td>\n",
              "      <td>married</td>\n",
              "      <td>secondary</td>\n",
              "      <td>2</td>\n",
              "      <td>yes</td>\n",
              "      <td>1.27</td>\n",
              "      <td>1</td>\n",
              "      <td>no</td>\n",
              "    </tr>\n",
              "    <tr>\n",
              "      <th>3</th>\n",
              "      <td>5</td>\n",
              "      <td>35</td>\n",
              "      <td>management</td>\n",
              "      <td>married</td>\n",
              "      <td>tertiary</td>\n",
              "      <td>231</td>\n",
              "      <td>yes</td>\n",
              "      <td>2.32</td>\n",
              "      <td>1</td>\n",
              "      <td>no</td>\n",
              "    </tr>\n",
              "    <tr>\n",
              "      <th>4</th>\n",
              "      <td>6</td>\n",
              "      <td>28</td>\n",
              "      <td>management</td>\n",
              "      <td>single</td>\n",
              "      <td>tertiary</td>\n",
              "      <td>447</td>\n",
              "      <td>yes</td>\n",
              "      <td>3.62</td>\n",
              "      <td>1</td>\n",
              "      <td>no</td>\n",
              "    </tr>\n",
              "  </tbody>\n",
              "</table>\n",
              "</div>"
            ],
            "text/plain": [
              "   CustomerID  age           job  martial  ... housing  duration campaign  response\n",
              "0           0   58    management  married  ...     yes      4.35        1        no\n",
              "1           1   44    technician   single  ...     yes      2.52        1        no\n",
              "2           2   33  entrepreneur  married  ...     yes      1.27        1        no\n",
              "3           5   35    management  married  ...     yes      2.32        1        no\n",
              "4           6   28    management   single  ...     yes      3.62        1        no\n",
              "\n",
              "[5 rows x 10 columns]"
            ]
          },
          "metadata": {
            "tags": []
          },
          "execution_count": 96
        }
      ]
    },
    {
      "cell_type": "markdown",
      "metadata": {
        "id": "OKY6gdEScnYV",
        "colab_type": "text"
      },
      "source": [
        "# Q2"
      ]
    },
    {
      "cell_type": "code",
      "metadata": {
        "id": "XPx4lAY1ko9V",
        "colab_type": "code",
        "outputId": "d834229f-ac58-4daf-c437-26c6cd67cf1e",
        "colab": {
          "base_uri": "https://localhost:8080/",
          "height": 272
        }
      },
      "source": [
        "dfcombined.info()"
      ],
      "execution_count": 97,
      "outputs": [
        {
          "output_type": "stream",
          "text": [
            "<class 'pandas.core.frame.DataFrame'>\n",
            "Int64Index: 40841 entries, 0 to 40840\n",
            "Data columns (total 10 columns):\n",
            "CustomerID    40841 non-null int64\n",
            "age           40841 non-null int64\n",
            "job           40841 non-null object\n",
            "martial       40841 non-null object\n",
            "education     40841 non-null object\n",
            "balance       40841 non-null int64\n",
            "housing       40841 non-null object\n",
            "duration      40841 non-null float64\n",
            "campaign      40841 non-null int64\n",
            "response      40841 non-null object\n",
            "dtypes: float64(1), int64(4), object(5)\n",
            "memory usage: 3.4+ MB\n"
          ],
          "name": "stdout"
        }
      ]
    },
    {
      "cell_type": "code",
      "metadata": {
        "id": "0UlOAJoS-VEG",
        "colab_type": "code",
        "outputId": "c9656f0c-5b16-4eb6-d5af-af344d21b272",
        "colab": {
          "base_uri": "https://localhost:8080/",
          "height": 297
        }
      },
      "source": [
        "dfcombined.describe()"
      ],
      "execution_count": 98,
      "outputs": [
        {
          "output_type": "execute_result",
          "data": {
            "text/html": [
              "<div>\n",
              "<style scoped>\n",
              "    .dataframe tbody tr th:only-of-type {\n",
              "        vertical-align: middle;\n",
              "    }\n",
              "\n",
              "    .dataframe tbody tr th {\n",
              "        vertical-align: top;\n",
              "    }\n",
              "\n",
              "    .dataframe thead th {\n",
              "        text-align: right;\n",
              "    }\n",
              "</style>\n",
              "<table border=\"1\" class=\"dataframe\">\n",
              "  <thead>\n",
              "    <tr style=\"text-align: right;\">\n",
              "      <th></th>\n",
              "      <th>CustomerID</th>\n",
              "      <th>age</th>\n",
              "      <th>balance</th>\n",
              "      <th>duration</th>\n",
              "      <th>campaign</th>\n",
              "    </tr>\n",
              "  </thead>\n",
              "  <tbody>\n",
              "    <tr>\n",
              "      <th>count</th>\n",
              "      <td>40841.000000</td>\n",
              "      <td>40841.000000</td>\n",
              "      <td>40841.000000</td>\n",
              "      <td>40841.000000</td>\n",
              "      <td>40841.000000</td>\n",
              "    </tr>\n",
              "    <tr>\n",
              "      <th>mean</th>\n",
              "      <td>22006.477657</td>\n",
              "      <td>40.790676</td>\n",
              "      <td>1073.981807</td>\n",
              "      <td>4.308949</td>\n",
              "      <td>2.774149</td>\n",
              "    </tr>\n",
              "    <tr>\n",
              "      <th>std</th>\n",
              "      <td>12919.797651</td>\n",
              "      <td>10.475473</td>\n",
              "      <td>1712.556186</td>\n",
              "      <td>4.305823</td>\n",
              "      <td>3.104177</td>\n",
              "    </tr>\n",
              "    <tr>\n",
              "      <th>min</th>\n",
              "      <td>0.000000</td>\n",
              "      <td>18.000000</td>\n",
              "      <td>-6847.000000</td>\n",
              "      <td>0.100000</td>\n",
              "      <td>1.000000</td>\n",
              "    </tr>\n",
              "    <tr>\n",
              "      <th>25%</th>\n",
              "      <td>10888.000000</td>\n",
              "      <td>33.000000</td>\n",
              "      <td>64.000000</td>\n",
              "      <td>1.730000</td>\n",
              "      <td>1.000000</td>\n",
              "    </tr>\n",
              "    <tr>\n",
              "      <th>50%</th>\n",
              "      <td>21652.000000</td>\n",
              "      <td>39.000000</td>\n",
              "      <td>421.000000</td>\n",
              "      <td>3.000000</td>\n",
              "      <td>2.000000</td>\n",
              "    </tr>\n",
              "    <tr>\n",
              "      <th>75%</th>\n",
              "      <td>33102.000000</td>\n",
              "      <td>48.000000</td>\n",
              "      <td>1333.000000</td>\n",
              "      <td>5.300000</td>\n",
              "      <td>3.000000</td>\n",
              "    </tr>\n",
              "    <tr>\n",
              "      <th>max</th>\n",
              "      <td>45209.000000</td>\n",
              "      <td>95.000000</td>\n",
              "      <td>10443.000000</td>\n",
              "      <td>81.970000</td>\n",
              "      <td>58.000000</td>\n",
              "    </tr>\n",
              "  </tbody>\n",
              "</table>\n",
              "</div>"
            ],
            "text/plain": [
              "         CustomerID           age       balance      duration      campaign\n",
              "count  40841.000000  40841.000000  40841.000000  40841.000000  40841.000000\n",
              "mean   22006.477657     40.790676   1073.981807      4.308949      2.774149\n",
              "std    12919.797651     10.475473   1712.556186      4.305823      3.104177\n",
              "min        0.000000     18.000000  -6847.000000      0.100000      1.000000\n",
              "25%    10888.000000     33.000000     64.000000      1.730000      1.000000\n",
              "50%    21652.000000     39.000000    421.000000      3.000000      2.000000\n",
              "75%    33102.000000     48.000000   1333.000000      5.300000      3.000000\n",
              "max    45209.000000     95.000000  10443.000000     81.970000     58.000000"
            ]
          },
          "metadata": {
            "tags": []
          },
          "execution_count": 98
        }
      ]
    },
    {
      "cell_type": "code",
      "metadata": {
        "id": "NYVyTW-NlGVY",
        "colab_type": "code",
        "outputId": "adbf5c12-d251-4b0c-b3fc-8cb426f57ad5",
        "colab": {
          "base_uri": "https://localhost:8080/",
          "height": 204
        }
      },
      "source": [
        "dfcombined.count()"
      ],
      "execution_count": 99,
      "outputs": [
        {
          "output_type": "execute_result",
          "data": {
            "text/plain": [
              "CustomerID    40841\n",
              "age           40841\n",
              "job           40841\n",
              "martial       40841\n",
              "education     40841\n",
              "balance       40841\n",
              "housing       40841\n",
              "duration      40841\n",
              "campaign      40841\n",
              "response      40841\n",
              "dtype: int64"
            ]
          },
          "metadata": {
            "tags": []
          },
          "execution_count": 99
        }
      ]
    },
    {
      "cell_type": "code",
      "metadata": {
        "id": "xUeOltif-1F8",
        "colab_type": "code",
        "outputId": "7b22a7ef-73c1-4303-b606-f115879abd6a",
        "colab": {
          "base_uri": "https://localhost:8080/",
          "height": 272
        }
      },
      "source": [
        "#Converting data types\n",
        "dfcombined['CustomerID']=dfcombined['CustomerID'].astype('category')\n",
        "dfcombined['balance']=dfcombined['balance'].astype('float')\n",
        "dfcombined['job']=dfcombined['job'].astype('category')\n",
        "dfcombined['martial']=dfcombined['martial'].astype('category')\n",
        "dfcombined['education']=dfcombined['education'].astype('category')\n",
        "dfcombined['housing']=dfcombined['housing'].astype('category')\n",
        "dfcombined['response']=dfcombined['response'].astype('category')\n",
        "dfcombined.info()\n",
        "\n"
      ],
      "execution_count": 100,
      "outputs": [
        {
          "output_type": "stream",
          "text": [
            "<class 'pandas.core.frame.DataFrame'>\n",
            "Int64Index: 40841 entries, 0 to 40840\n",
            "Data columns (total 10 columns):\n",
            "CustomerID    40841 non-null category\n",
            "age           40841 non-null int64\n",
            "job           40841 non-null category\n",
            "martial       40841 non-null category\n",
            "education     40841 non-null category\n",
            "balance       40841 non-null float64\n",
            "housing       40841 non-null category\n",
            "duration      40841 non-null float64\n",
            "campaign      40841 non-null int64\n",
            "response      40841 non-null category\n",
            "dtypes: category(6), float64(2), int64(2)\n",
            "memory usage: 3.5 MB\n"
          ],
          "name": "stdout"
        }
      ]
    },
    {
      "cell_type": "markdown",
      "metadata": {
        "id": "OWK4ubB7PfiV",
        "colab_type": "text"
      },
      "source": [
        "There is no missing data."
      ]
    },
    {
      "cell_type": "markdown",
      "metadata": {
        "id": "Jsj0S3S-_wzi",
        "colab_type": "text"
      },
      "source": [
        "# Q3\n"
      ]
    },
    {
      "cell_type": "code",
      "metadata": {
        "id": "hNQVSmuH_0VJ",
        "colab_type": "code",
        "outputId": "aab9a531-0fdf-4a04-98bc-358bece9a53d",
        "colab": {
          "base_uri": "https://localhost:8080/",
          "height": 0
        }
      },
      "source": [
        "dfcombined.groupby('response').count()"
      ],
      "execution_count": 101,
      "outputs": [
        {
          "output_type": "execute_result",
          "data": {
            "text/html": [
              "<div>\n",
              "<style scoped>\n",
              "    .dataframe tbody tr th:only-of-type {\n",
              "        vertical-align: middle;\n",
              "    }\n",
              "\n",
              "    .dataframe tbody tr th {\n",
              "        vertical-align: top;\n",
              "    }\n",
              "\n",
              "    .dataframe thead th {\n",
              "        text-align: right;\n",
              "    }\n",
              "</style>\n",
              "<table border=\"1\" class=\"dataframe\">\n",
              "  <thead>\n",
              "    <tr style=\"text-align: right;\">\n",
              "      <th></th>\n",
              "      <th>CustomerID</th>\n",
              "      <th>age</th>\n",
              "      <th>job</th>\n",
              "      <th>martial</th>\n",
              "      <th>education</th>\n",
              "      <th>balance</th>\n",
              "      <th>housing</th>\n",
              "      <th>duration</th>\n",
              "      <th>campaign</th>\n",
              "    </tr>\n",
              "    <tr>\n",
              "      <th>response</th>\n",
              "      <th></th>\n",
              "      <th></th>\n",
              "      <th></th>\n",
              "      <th></th>\n",
              "      <th></th>\n",
              "      <th></th>\n",
              "      <th></th>\n",
              "      <th></th>\n",
              "      <th></th>\n",
              "    </tr>\n",
              "  </thead>\n",
              "  <tbody>\n",
              "    <tr>\n",
              "      <th>no</th>\n",
              "      <td>36202</td>\n",
              "      <td>36202</td>\n",
              "      <td>36202</td>\n",
              "      <td>36202</td>\n",
              "      <td>36202</td>\n",
              "      <td>36202</td>\n",
              "      <td>36202</td>\n",
              "      <td>36202</td>\n",
              "      <td>36202</td>\n",
              "    </tr>\n",
              "    <tr>\n",
              "      <th>yes</th>\n",
              "      <td>4639</td>\n",
              "      <td>4639</td>\n",
              "      <td>4639</td>\n",
              "      <td>4639</td>\n",
              "      <td>4639</td>\n",
              "      <td>4639</td>\n",
              "      <td>4639</td>\n",
              "      <td>4639</td>\n",
              "      <td>4639</td>\n",
              "    </tr>\n",
              "  </tbody>\n",
              "</table>\n",
              "</div>"
            ],
            "text/plain": [
              "          CustomerID    age    job  ...  housing  duration  campaign\n",
              "response                            ...                             \n",
              "no             36202  36202  36202  ...    36202     36202     36202\n",
              "yes             4639   4639   4639  ...     4639      4639      4639\n",
              "\n",
              "[2 rows x 9 columns]"
            ]
          },
          "metadata": {
            "tags": []
          },
          "execution_count": 101
        }
      ]
    },
    {
      "cell_type": "code",
      "metadata": {
        "id": "VH4uk4jEDJG8",
        "colab_type": "code",
        "outputId": "d331b54c-dbd5-4c3d-9a2b-69b9c35753e6",
        "colab": {
          "base_uri": "https://localhost:8080/",
          "height": 0
        }
      },
      "source": [
        "print(str(round((4639/(4639+36202)*100),2))+\"%\")\n",
        "#11.36% of contacted customers acquired the product"
      ],
      "execution_count": 102,
      "outputs": [
        {
          "output_type": "stream",
          "text": [
            "11.36%\n"
          ],
          "name": "stdout"
        }
      ]
    },
    {
      "cell_type": "markdown",
      "metadata": {
        "id": "MeR94ujrFmuI",
        "colab_type": "text"
      },
      "source": [
        "# Q4"
      ]
    },
    {
      "cell_type": "code",
      "metadata": {
        "id": "TG_saNepF2pK",
        "colab_type": "code",
        "outputId": "47aafd2e-65c8-4aa7-9aab-19cd5a90e8e3",
        "colab": {
          "base_uri": "https://localhost:8080/",
          "height": 0
        }
      },
      "source": [
        "dfcombined[dfcombined.response==\"yes\"]"
      ],
      "execution_count": 103,
      "outputs": [
        {
          "output_type": "execute_result",
          "data": {
            "text/html": [
              "<div>\n",
              "<style scoped>\n",
              "    .dataframe tbody tr th:only-of-type {\n",
              "        vertical-align: middle;\n",
              "    }\n",
              "\n",
              "    .dataframe tbody tr th {\n",
              "        vertical-align: top;\n",
              "    }\n",
              "\n",
              "    .dataframe thead th {\n",
              "        text-align: right;\n",
              "    }\n",
              "</style>\n",
              "<table border=\"1\" class=\"dataframe\">\n",
              "  <thead>\n",
              "    <tr style=\"text-align: right;\">\n",
              "      <th></th>\n",
              "      <th>CustomerID</th>\n",
              "      <th>age</th>\n",
              "      <th>job</th>\n",
              "      <th>martial</th>\n",
              "      <th>education</th>\n",
              "      <th>balance</th>\n",
              "      <th>housing</th>\n",
              "      <th>duration</th>\n",
              "      <th>campaign</th>\n",
              "      <th>response</th>\n",
              "    </tr>\n",
              "  </thead>\n",
              "  <tbody>\n",
              "    <tr>\n",
              "      <th>72</th>\n",
              "      <td>83</td>\n",
              "      <td>59</td>\n",
              "      <td>admin.</td>\n",
              "      <td>married</td>\n",
              "      <td>secondary</td>\n",
              "      <td>2343.0</td>\n",
              "      <td>yes</td>\n",
              "      <td>17.37</td>\n",
              "      <td>1</td>\n",
              "      <td>yes</td>\n",
              "    </tr>\n",
              "    <tr>\n",
              "      <th>75</th>\n",
              "      <td>86</td>\n",
              "      <td>56</td>\n",
              "      <td>admin.</td>\n",
              "      <td>married</td>\n",
              "      <td>secondary</td>\n",
              "      <td>45.0</td>\n",
              "      <td>no</td>\n",
              "      <td>24.45</td>\n",
              "      <td>1</td>\n",
              "      <td>yes</td>\n",
              "    </tr>\n",
              "    <tr>\n",
              "      <th>76</th>\n",
              "      <td>87</td>\n",
              "      <td>41</td>\n",
              "      <td>technician</td>\n",
              "      <td>married</td>\n",
              "      <td>secondary</td>\n",
              "      <td>1270.0</td>\n",
              "      <td>yes</td>\n",
              "      <td>23.15</td>\n",
              "      <td>1</td>\n",
              "      <td>yes</td>\n",
              "    </tr>\n",
              "    <tr>\n",
              "      <th>115</th>\n",
              "      <td>129</td>\n",
              "      <td>55</td>\n",
              "      <td>services</td>\n",
              "      <td>married</td>\n",
              "      <td>secondary</td>\n",
              "      <td>2476.0</td>\n",
              "      <td>yes</td>\n",
              "      <td>9.65</td>\n",
              "      <td>1</td>\n",
              "      <td>yes</td>\n",
              "    </tr>\n",
              "    <tr>\n",
              "      <th>149</th>\n",
              "      <td>168</td>\n",
              "      <td>54</td>\n",
              "      <td>admin.</td>\n",
              "      <td>married</td>\n",
              "      <td>tertiary</td>\n",
              "      <td>184.0</td>\n",
              "      <td>no</td>\n",
              "      <td>11.22</td>\n",
              "      <td>2</td>\n",
              "      <td>yes</td>\n",
              "    </tr>\n",
              "    <tr>\n",
              "      <th>...</th>\n",
              "      <td>...</td>\n",
              "      <td>...</td>\n",
              "      <td>...</td>\n",
              "      <td>...</td>\n",
              "      <td>...</td>\n",
              "      <td>...</td>\n",
              "      <td>...</td>\n",
              "      <td>...</td>\n",
              "      <td>...</td>\n",
              "      <td>...</td>\n",
              "    </tr>\n",
              "    <tr>\n",
              "      <th>40835</th>\n",
              "      <td>45204</td>\n",
              "      <td>73</td>\n",
              "      <td>retired</td>\n",
              "      <td>married</td>\n",
              "      <td>secondary</td>\n",
              "      <td>2850.0</td>\n",
              "      <td>no</td>\n",
              "      <td>5.00</td>\n",
              "      <td>1</td>\n",
              "      <td>yes</td>\n",
              "    </tr>\n",
              "    <tr>\n",
              "      <th>40836</th>\n",
              "      <td>45205</td>\n",
              "      <td>25</td>\n",
              "      <td>technician</td>\n",
              "      <td>single</td>\n",
              "      <td>secondary</td>\n",
              "      <td>505.0</td>\n",
              "      <td>no</td>\n",
              "      <td>6.43</td>\n",
              "      <td>2</td>\n",
              "      <td>yes</td>\n",
              "    </tr>\n",
              "    <tr>\n",
              "      <th>40837</th>\n",
              "      <td>45206</td>\n",
              "      <td>51</td>\n",
              "      <td>technician</td>\n",
              "      <td>married</td>\n",
              "      <td>tertiary</td>\n",
              "      <td>825.0</td>\n",
              "      <td>no</td>\n",
              "      <td>16.28</td>\n",
              "      <td>3</td>\n",
              "      <td>yes</td>\n",
              "    </tr>\n",
              "    <tr>\n",
              "      <th>40838</th>\n",
              "      <td>45207</td>\n",
              "      <td>71</td>\n",
              "      <td>retired</td>\n",
              "      <td>divorced</td>\n",
              "      <td>primary</td>\n",
              "      <td>1729.0</td>\n",
              "      <td>no</td>\n",
              "      <td>7.60</td>\n",
              "      <td>2</td>\n",
              "      <td>yes</td>\n",
              "    </tr>\n",
              "    <tr>\n",
              "      <th>40839</th>\n",
              "      <td>45208</td>\n",
              "      <td>72</td>\n",
              "      <td>retired</td>\n",
              "      <td>married</td>\n",
              "      <td>secondary</td>\n",
              "      <td>5715.0</td>\n",
              "      <td>no</td>\n",
              "      <td>18.78</td>\n",
              "      <td>5</td>\n",
              "      <td>yes</td>\n",
              "    </tr>\n",
              "  </tbody>\n",
              "</table>\n",
              "<p>4639 rows × 10 columns</p>\n",
              "</div>"
            ],
            "text/plain": [
              "      CustomerID  age         job  ... duration campaign  response\n",
              "72            83   59      admin.  ...    17.37        1       yes\n",
              "75            86   56      admin.  ...    24.45        1       yes\n",
              "76            87   41  technician  ...    23.15        1       yes\n",
              "115          129   55    services  ...     9.65        1       yes\n",
              "149          168   54      admin.  ...    11.22        2       yes\n",
              "...          ...  ...         ...  ...      ...      ...       ...\n",
              "40835      45204   73     retired  ...     5.00        1       yes\n",
              "40836      45205   25  technician  ...     6.43        2       yes\n",
              "40837      45206   51  technician  ...    16.28        3       yes\n",
              "40838      45207   71     retired  ...     7.60        2       yes\n",
              "40839      45208   72     retired  ...    18.78        5       yes\n",
              "\n",
              "[4639 rows x 10 columns]"
            ]
          },
          "metadata": {
            "tags": []
          },
          "execution_count": 103
        }
      ]
    },
    {
      "cell_type": "code",
      "metadata": {
        "id": "-7daUPcgGrvo",
        "colab_type": "code",
        "outputId": "23fb3dc6-7399-4780-c7c6-bde51d8549e4",
        "colab": {
          "base_uri": "https://localhost:8080/",
          "height": 0
        }
      },
      "source": [
        "dfyes=dfcombined[dfcombined.response==\"yes\"]\n",
        "dfyes.head(4)"
      ],
      "execution_count": 104,
      "outputs": [
        {
          "output_type": "execute_result",
          "data": {
            "text/html": [
              "<div>\n",
              "<style scoped>\n",
              "    .dataframe tbody tr th:only-of-type {\n",
              "        vertical-align: middle;\n",
              "    }\n",
              "\n",
              "    .dataframe tbody tr th {\n",
              "        vertical-align: top;\n",
              "    }\n",
              "\n",
              "    .dataframe thead th {\n",
              "        text-align: right;\n",
              "    }\n",
              "</style>\n",
              "<table border=\"1\" class=\"dataframe\">\n",
              "  <thead>\n",
              "    <tr style=\"text-align: right;\">\n",
              "      <th></th>\n",
              "      <th>CustomerID</th>\n",
              "      <th>age</th>\n",
              "      <th>job</th>\n",
              "      <th>martial</th>\n",
              "      <th>education</th>\n",
              "      <th>balance</th>\n",
              "      <th>housing</th>\n",
              "      <th>duration</th>\n",
              "      <th>campaign</th>\n",
              "      <th>response</th>\n",
              "    </tr>\n",
              "  </thead>\n",
              "  <tbody>\n",
              "    <tr>\n",
              "      <th>72</th>\n",
              "      <td>83</td>\n",
              "      <td>59</td>\n",
              "      <td>admin.</td>\n",
              "      <td>married</td>\n",
              "      <td>secondary</td>\n",
              "      <td>2343.0</td>\n",
              "      <td>yes</td>\n",
              "      <td>17.37</td>\n",
              "      <td>1</td>\n",
              "      <td>yes</td>\n",
              "    </tr>\n",
              "    <tr>\n",
              "      <th>75</th>\n",
              "      <td>86</td>\n",
              "      <td>56</td>\n",
              "      <td>admin.</td>\n",
              "      <td>married</td>\n",
              "      <td>secondary</td>\n",
              "      <td>45.0</td>\n",
              "      <td>no</td>\n",
              "      <td>24.45</td>\n",
              "      <td>1</td>\n",
              "      <td>yes</td>\n",
              "    </tr>\n",
              "    <tr>\n",
              "      <th>76</th>\n",
              "      <td>87</td>\n",
              "      <td>41</td>\n",
              "      <td>technician</td>\n",
              "      <td>married</td>\n",
              "      <td>secondary</td>\n",
              "      <td>1270.0</td>\n",
              "      <td>yes</td>\n",
              "      <td>23.15</td>\n",
              "      <td>1</td>\n",
              "      <td>yes</td>\n",
              "    </tr>\n",
              "    <tr>\n",
              "      <th>115</th>\n",
              "      <td>129</td>\n",
              "      <td>55</td>\n",
              "      <td>services</td>\n",
              "      <td>married</td>\n",
              "      <td>secondary</td>\n",
              "      <td>2476.0</td>\n",
              "      <td>yes</td>\n",
              "      <td>9.65</td>\n",
              "      <td>1</td>\n",
              "      <td>yes</td>\n",
              "    </tr>\n",
              "  </tbody>\n",
              "</table>\n",
              "</div>"
            ],
            "text/plain": [
              "    CustomerID  age         job  martial  ... housing  duration campaign  response\n",
              "72          83   59      admin.  married  ...     yes     17.37        1       yes\n",
              "75          86   56      admin.  married  ...      no     24.45        1       yes\n",
              "76          87   41  technician  married  ...     yes     23.15        1       yes\n",
              "115        129   55    services  married  ...     yes      9.65        1       yes\n",
              "\n",
              "[4 rows x 10 columns]"
            ]
          },
          "metadata": {
            "tags": []
          },
          "execution_count": 104
        }
      ]
    },
    {
      "cell_type": "code",
      "metadata": {
        "id": "frNfxRGeHLPW",
        "colab_type": "code",
        "outputId": "34a51951-434a-4e27-9390-414233b83faf",
        "colab": {
          "base_uri": "https://localhost:8080/",
          "height": 0
        }
      },
      "source": [
        "#List the 10 customers with the highest bank balances who also signed up for the product.\n",
        "dfyes.sort_values(by='balance', ascending=False).head(10)"
      ],
      "execution_count": 105,
      "outputs": [
        {
          "output_type": "execute_result",
          "data": {
            "text/html": [
              "<div>\n",
              "<style scoped>\n",
              "    .dataframe tbody tr th:only-of-type {\n",
              "        vertical-align: middle;\n",
              "    }\n",
              "\n",
              "    .dataframe tbody tr th {\n",
              "        vertical-align: top;\n",
              "    }\n",
              "\n",
              "    .dataframe thead th {\n",
              "        text-align: right;\n",
              "    }\n",
              "</style>\n",
              "<table border=\"1\" class=\"dataframe\">\n",
              "  <thead>\n",
              "    <tr style=\"text-align: right;\">\n",
              "      <th></th>\n",
              "      <th>CustomerID</th>\n",
              "      <th>age</th>\n",
              "      <th>job</th>\n",
              "      <th>martial</th>\n",
              "      <th>education</th>\n",
              "      <th>balance</th>\n",
              "      <th>housing</th>\n",
              "      <th>duration</th>\n",
              "      <th>campaign</th>\n",
              "      <th>response</th>\n",
              "    </tr>\n",
              "  </thead>\n",
              "  <tbody>\n",
              "    <tr>\n",
              "      <th>36303</th>\n",
              "      <td>39686</td>\n",
              "      <td>32</td>\n",
              "      <td>blue-collar</td>\n",
              "      <td>married</td>\n",
              "      <td>secondary</td>\n",
              "      <td>10287.0</td>\n",
              "      <td>yes</td>\n",
              "      <td>4.68</td>\n",
              "      <td>4</td>\n",
              "      <td>yes</td>\n",
              "    </tr>\n",
              "    <tr>\n",
              "      <th>31174</th>\n",
              "      <td>33734</td>\n",
              "      <td>32</td>\n",
              "      <td>management</td>\n",
              "      <td>single</td>\n",
              "      <td>tertiary</td>\n",
              "      <td>10281.0</td>\n",
              "      <td>no</td>\n",
              "      <td>6.67</td>\n",
              "      <td>1</td>\n",
              "      <td>yes</td>\n",
              "    </tr>\n",
              "    <tr>\n",
              "      <th>31563</th>\n",
              "      <td>34182</td>\n",
              "      <td>45</td>\n",
              "      <td>blue-collar</td>\n",
              "      <td>married</td>\n",
              "      <td>secondary</td>\n",
              "      <td>10252.0</td>\n",
              "      <td>no</td>\n",
              "      <td>11.25</td>\n",
              "      <td>2</td>\n",
              "      <td>yes</td>\n",
              "    </tr>\n",
              "    <tr>\n",
              "      <th>37958</th>\n",
              "      <td>41613</td>\n",
              "      <td>45</td>\n",
              "      <td>blue-collar</td>\n",
              "      <td>married</td>\n",
              "      <td>secondary</td>\n",
              "      <td>10252.0</td>\n",
              "      <td>no</td>\n",
              "      <td>2.88</td>\n",
              "      <td>1</td>\n",
              "      <td>yes</td>\n",
              "    </tr>\n",
              "    <tr>\n",
              "      <th>22775</th>\n",
              "      <td>24084</td>\n",
              "      <td>49</td>\n",
              "      <td>admin.</td>\n",
              "      <td>married</td>\n",
              "      <td>secondary</td>\n",
              "      <td>10250.0</td>\n",
              "      <td>yes</td>\n",
              "      <td>1.62</td>\n",
              "      <td>1</td>\n",
              "      <td>yes</td>\n",
              "    </tr>\n",
              "    <tr>\n",
              "      <th>39124</th>\n",
              "      <td>43028</td>\n",
              "      <td>54</td>\n",
              "      <td>technician</td>\n",
              "      <td>married</td>\n",
              "      <td>secondary</td>\n",
              "      <td>10185.0</td>\n",
              "      <td>no</td>\n",
              "      <td>4.18</td>\n",
              "      <td>1</td>\n",
              "      <td>yes</td>\n",
              "    </tr>\n",
              "    <tr>\n",
              "      <th>29122</th>\n",
              "      <td>31380</td>\n",
              "      <td>53</td>\n",
              "      <td>technician</td>\n",
              "      <td>married</td>\n",
              "      <td>secondary</td>\n",
              "      <td>10185.0</td>\n",
              "      <td>no</td>\n",
              "      <td>1.92</td>\n",
              "      <td>1</td>\n",
              "      <td>yes</td>\n",
              "    </tr>\n",
              "    <tr>\n",
              "      <th>28995</th>\n",
              "      <td>31241</td>\n",
              "      <td>58</td>\n",
              "      <td>management</td>\n",
              "      <td>divorced</td>\n",
              "      <td>secondary</td>\n",
              "      <td>10180.0</td>\n",
              "      <td>no</td>\n",
              "      <td>3.00</td>\n",
              "      <td>2</td>\n",
              "      <td>yes</td>\n",
              "    </tr>\n",
              "    <tr>\n",
              "      <th>31139</th>\n",
              "      <td>33693</td>\n",
              "      <td>26</td>\n",
              "      <td>student</td>\n",
              "      <td>single</td>\n",
              "      <td>tertiary</td>\n",
              "      <td>10086.0</td>\n",
              "      <td>no</td>\n",
              "      <td>1.83</td>\n",
              "      <td>2</td>\n",
              "      <td>yes</td>\n",
              "    </tr>\n",
              "    <tr>\n",
              "      <th>19611</th>\n",
              "      <td>20811</td>\n",
              "      <td>50</td>\n",
              "      <td>self-employed</td>\n",
              "      <td>married</td>\n",
              "      <td>secondary</td>\n",
              "      <td>10052.0</td>\n",
              "      <td>no</td>\n",
              "      <td>11.08</td>\n",
              "      <td>2</td>\n",
              "      <td>yes</td>\n",
              "    </tr>\n",
              "  </tbody>\n",
              "</table>\n",
              "</div>"
            ],
            "text/plain": [
              "      CustomerID  age            job  ... duration campaign  response\n",
              "36303      39686   32    blue-collar  ...     4.68        4       yes\n",
              "31174      33734   32     management  ...     6.67        1       yes\n",
              "31563      34182   45    blue-collar  ...    11.25        2       yes\n",
              "37958      41613   45    blue-collar  ...     2.88        1       yes\n",
              "22775      24084   49         admin.  ...     1.62        1       yes\n",
              "39124      43028   54     technician  ...     4.18        1       yes\n",
              "29122      31380   53     technician  ...     1.92        1       yes\n",
              "28995      31241   58     management  ...     3.00        2       yes\n",
              "31139      33693   26        student  ...     1.83        2       yes\n",
              "19611      20811   50  self-employed  ...    11.08        2       yes\n",
              "\n",
              "[10 rows x 10 columns]"
            ]
          },
          "metadata": {
            "tags": []
          },
          "execution_count": 105
        }
      ]
    },
    {
      "cell_type": "markdown",
      "metadata": {
        "id": "w9npZYI4jeb3",
        "colab_type": "text"
      },
      "source": [
        "# Q5\n",
        "\n",
        "\n"
      ]
    },
    {
      "cell_type": "code",
      "metadata": {
        "id": "RC-c0d_qjkkf",
        "colab_type": "code",
        "outputId": "698f2412-2ab3-415d-8716-8461ed5b0287",
        "colab": {
          "base_uri": "https://localhost:8080/",
          "height": 0
        }
      },
      "source": [
        "import seaborn as sns\n",
        "import matplotlib.pyplot as plt\n",
        "\n",
        "\n",
        "fig = sns.regplot(x=\"age\", y=\"balance\", data=dfcombined)\n",
        "plt.rcParams['figure.figsize'] = [9.5, 4]\n",
        "plt.title(\"AGE vs BALANCE\")\n",
        "plt.show()"
      ],
      "execution_count": 106,
      "outputs": [
        {
          "output_type": "display_data",
          "data": {
            "image/png": "[encoded data removed]",
            "text/plain": [
              "<Figure size 684x288 with 1 Axes>"
            ]
          },
          "metadata": {
            "tags": []
          }
        }
      ]
    },
    {
      "cell_type": "code",
      "metadata": {
        "id": "AuYoR5anm1Pd",
        "colab_type": "code",
        "outputId": "700807ff-6a40-449b-971d-0e169d372fe5",
        "colab": {
          "base_uri": "https://localhost:8080/",
          "height": 0
        }
      },
      "source": [
        "corr = dfcombined.corr()\n",
        "corr\n",
        "#The correlation between age and balance is 0.103405 as shown."
      ],
      "execution_count": 107,
      "outputs": [
        {
          "output_type": "execute_result",
          "data": {
            "text/html": [
              "<div>\n",
              "<style scoped>\n",
              "    .dataframe tbody tr th:only-of-type {\n",
              "        vertical-align: middle;\n",
              "    }\n",
              "\n",
              "    .dataframe tbody tr th {\n",
              "        vertical-align: top;\n",
              "    }\n",
              "\n",
              "    .dataframe thead th {\n",
              "        text-align: right;\n",
              "    }\n",
              "</style>\n",
              "<table border=\"1\" class=\"dataframe\">\n",
              "  <thead>\n",
              "    <tr style=\"text-align: right;\">\n",
              "      <th></th>\n",
              "      <th>age</th>\n",
              "      <th>balance</th>\n",
              "      <th>duration</th>\n",
              "      <th>campaign</th>\n",
              "    </tr>\n",
              "  </thead>\n",
              "  <tbody>\n",
              "    <tr>\n",
              "      <th>age</th>\n",
              "      <td>1.000000</td>\n",
              "      <td>0.103405</td>\n",
              "      <td>-0.007422</td>\n",
              "      <td>0.003563</td>\n",
              "    </tr>\n",
              "    <tr>\n",
              "      <th>balance</th>\n",
              "      <td>0.103405</td>\n",
              "      <td>1.000000</td>\n",
              "      <td>0.035481</td>\n",
              "      <td>-0.026482</td>\n",
              "    </tr>\n",
              "    <tr>\n",
              "      <th>duration</th>\n",
              "      <td>-0.007422</td>\n",
              "      <td>0.035481</td>\n",
              "      <td>1.000000</td>\n",
              "      <td>-0.081852</td>\n",
              "    </tr>\n",
              "    <tr>\n",
              "      <th>campaign</th>\n",
              "      <td>0.003563</td>\n",
              "      <td>-0.026482</td>\n",
              "      <td>-0.081852</td>\n",
              "      <td>1.000000</td>\n",
              "    </tr>\n",
              "  </tbody>\n",
              "</table>\n",
              "</div>"
            ],
            "text/plain": [
              "               age   balance  duration  campaign\n",
              "age       1.000000  0.103405 -0.007422  0.003563\n",
              "balance   0.103405  1.000000  0.035481 -0.026482\n",
              "duration -0.007422  0.035481  1.000000 -0.081852\n",
              "campaign  0.003563 -0.026482 -0.081852  1.000000"
            ]
          },
          "metadata": {
            "tags": []
          },
          "execution_count": 107
        }
      ]
    },
    {
      "cell_type": "markdown",
      "metadata": {
        "id": "CcZ2a5UpmTD-",
        "colab_type": "text"
      },
      "source": [
        "# Q6"
      ]
    },
    {
      "cell_type": "code",
      "metadata": {
        "id": "X0mtnvAfmUvw",
        "colab_type": "code",
        "outputId": "3824783a-4a0c-4743-a362-8964ea30ba22",
        "colab": {
          "base_uri": "https://localhost:8080/",
          "height": 0
        }
      },
      "source": [
        "dict ={'self-employed':'Self-Employed','entrepreneur':'Self-Employed','blue-collar':'Trades','technician':'Trades','housemaid':'Services','services':'Services','other':'Services','student':'Non-Full Time','unemployed':'Non-Full Time','retired':'Non-Full Time','admin.':'Office Workers','management':'Office Workers'}\n",
        "dffinal=dfcombined\n",
        "dffinal['Job2']=dffinal['job'].apply(lambda x : dict[x])\n",
        "dffinal=dffinal.drop(['job'], axis=1)\n",
        "dffinal.head(5)\n",
        "\n"
      ],
      "execution_count": 108,
      "outputs": [
        {
          "output_type": "execute_result",
          "data": {
            "text/html": [
              "<div>\n",
              "<style scoped>\n",
              "    .dataframe tbody tr th:only-of-type {\n",
              "        vertical-align: middle;\n",
              "    }\n",
              "\n",
              "    .dataframe tbody tr th {\n",
              "        vertical-align: top;\n",
              "    }\n",
              "\n",
              "    .dataframe thead th {\n",
              "        text-align: right;\n",
              "    }\n",
              "</style>\n",
              "<table border=\"1\" class=\"dataframe\">\n",
              "  <thead>\n",
              "    <tr style=\"text-align: right;\">\n",
              "      <th></th>\n",
              "      <th>CustomerID</th>\n",
              "      <th>age</th>\n",
              "      <th>martial</th>\n",
              "      <th>education</th>\n",
              "      <th>balance</th>\n",
              "      <th>housing</th>\n",
              "      <th>duration</th>\n",
              "      <th>campaign</th>\n",
              "      <th>response</th>\n",
              "      <th>Job2</th>\n",
              "    </tr>\n",
              "  </thead>\n",
              "  <tbody>\n",
              "    <tr>\n",
              "      <th>0</th>\n",
              "      <td>0</td>\n",
              "      <td>58</td>\n",
              "      <td>married</td>\n",
              "      <td>tertiary</td>\n",
              "      <td>2143.0</td>\n",
              "      <td>yes</td>\n",
              "      <td>4.35</td>\n",
              "      <td>1</td>\n",
              "      <td>no</td>\n",
              "      <td>Office Workers</td>\n",
              "    </tr>\n",
              "    <tr>\n",
              "      <th>1</th>\n",
              "      <td>1</td>\n",
              "      <td>44</td>\n",
              "      <td>single</td>\n",
              "      <td>secondary</td>\n",
              "      <td>29.0</td>\n",
              "      <td>yes</td>\n",
              "      <td>2.52</td>\n",
              "      <td>1</td>\n",
              "      <td>no</td>\n",
              "      <td>Trades</td>\n",
              "    </tr>\n",
              "    <tr>\n",
              "      <th>2</th>\n",
              "      <td>2</td>\n",
              "      <td>33</td>\n",
              "      <td>married</td>\n",
              "      <td>secondary</td>\n",
              "      <td>2.0</td>\n",
              "      <td>yes</td>\n",
              "      <td>1.27</td>\n",
              "      <td>1</td>\n",
              "      <td>no</td>\n",
              "      <td>Self-Employed</td>\n",
              "    </tr>\n",
              "    <tr>\n",
              "      <th>3</th>\n",
              "      <td>5</td>\n",
              "      <td>35</td>\n",
              "      <td>married</td>\n",
              "      <td>tertiary</td>\n",
              "      <td>231.0</td>\n",
              "      <td>yes</td>\n",
              "      <td>2.32</td>\n",
              "      <td>1</td>\n",
              "      <td>no</td>\n",
              "      <td>Office Workers</td>\n",
              "    </tr>\n",
              "    <tr>\n",
              "      <th>4</th>\n",
              "      <td>6</td>\n",
              "      <td>28</td>\n",
              "      <td>single</td>\n",
              "      <td>tertiary</td>\n",
              "      <td>447.0</td>\n",
              "      <td>yes</td>\n",
              "      <td>3.62</td>\n",
              "      <td>1</td>\n",
              "      <td>no</td>\n",
              "      <td>Office Workers</td>\n",
              "    </tr>\n",
              "  </tbody>\n",
              "</table>\n",
              "</div>"
            ],
            "text/plain": [
              "  CustomerID  age  martial  ... campaign  response            Job2\n",
              "0          0   58  married  ...        1        no  Office Workers\n",
              "1          1   44   single  ...        1        no          Trades\n",
              "2          2   33  married  ...        1        no   Self-Employed\n",
              "3          5   35  married  ...        1        no  Office Workers\n",
              "4          6   28   single  ...        1        no  Office Workers\n",
              "\n",
              "[5 rows x 10 columns]"
            ]
          },
          "metadata": {
            "tags": []
          },
          "execution_count": 108
        }
      ]
    },
    {
      "cell_type": "markdown",
      "metadata": {
        "id": "0jGlVz97nMaN",
        "colab_type": "text"
      },
      "source": [
        "# Q7"
      ]
    },
    {
      "cell_type": "code",
      "metadata": {
        "id": "Gb6X5gw0nN7F",
        "colab_type": "code",
        "outputId": "e389444d-a615-4a52-d2e3-d4bbca8746a7",
        "colab": {
          "base_uri": "https://localhost:8080/",
          "height": 369
        }
      },
      "source": [
        "sns.catplot(x=\"response\", y=\"duration\", \n",
        "            kind=\"box\", dodge=False, data=dffinal);"
      ],
      "execution_count": 109,
      "outputs": [
        {
          "output_type": "display_data",
          "data": {
            "image/png": "[encoded data removed]",
            "text/plain": [
              "<Figure size 360x360 with 1 Axes>"
            ]
          },
          "metadata": {
            "tags": []
          }
        }
      ]
    },
    {
      "cell_type": "code",
      "metadata": {
        "id": "V3hMioeVqC9J",
        "colab_type": "code",
        "outputId": "c70f4386-8d1d-405c-ba62-bfecaa4aa225",
        "colab": {
          "base_uri": "https://localhost:8080/",
          "height": 369
        }
      },
      "source": [
        "sns.catplot(x=\"response\", y=\"campaign\", \n",
        "            kind=\"box\", dodge=False, data=dffinal);\n",
        "            "
      ],
      "execution_count": 110,
      "outputs": [
        {
          "output_type": "display_data",
          "data": {
            "image/png": "[encoded data removed]",
            "text/plain": [
              "<Figure size 360x360 with 1 Axes>"
            ]
          },
          "metadata": {
            "tags": []
          }
        }
      ]
    },
    {
      "cell_type": "code",
      "metadata": {
        "id": "k3CXGJqHu9s8",
        "colab_type": "code",
        "outputId": "36034e48-f73c-4352-82a3-3e40a44b7ac2",
        "colab": {
          "base_uri": "https://localhost:8080/",
          "height": 244
        }
      },
      "source": [
        "import numpy as np\n",
        "dffinal[\"responded\"] = np.where(dffinal[\"response\"].str.contains(\"yes\"), 1,0)\n",
        "dffinal.head(4)"
      ],
      "execution_count": 111,
      "outputs": [
        {
          "output_type": "execute_result",
          "data": {
            "text/html": [
              "<div>\n",
              "<style scoped>\n",
              "    .dataframe tbody tr th:only-of-type {\n",
              "        vertical-align: middle;\n",
              "    }\n",
              "\n",
              "    .dataframe tbody tr th {\n",
              "        vertical-align: top;\n",
              "    }\n",
              "\n",
              "    .dataframe thead th {\n",
              "        text-align: right;\n",
              "    }\n",
              "</style>\n",
              "<table border=\"1\" class=\"dataframe\">\n",
              "  <thead>\n",
              "    <tr style=\"text-align: right;\">\n",
              "      <th></th>\n",
              "      <th>CustomerID</th>\n",
              "      <th>age</th>\n",
              "      <th>martial</th>\n",
              "      <th>education</th>\n",
              "      <th>balance</th>\n",
              "      <th>housing</th>\n",
              "      <th>duration</th>\n",
              "      <th>campaign</th>\n",
              "      <th>response</th>\n",
              "      <th>Job2</th>\n",
              "      <th>responded</th>\n",
              "    </tr>\n",
              "  </thead>\n",
              "  <tbody>\n",
              "    <tr>\n",
              "      <th>0</th>\n",
              "      <td>0</td>\n",
              "      <td>58</td>\n",
              "      <td>married</td>\n",
              "      <td>tertiary</td>\n",
              "      <td>2143.0</td>\n",
              "      <td>yes</td>\n",
              "      <td>4.35</td>\n",
              "      <td>1</td>\n",
              "      <td>no</td>\n",
              "      <td>Office Workers</td>\n",
              "      <td>0</td>\n",
              "    </tr>\n",
              "    <tr>\n",
              "      <th>1</th>\n",
              "      <td>1</td>\n",
              "      <td>44</td>\n",
              "      <td>single</td>\n",
              "      <td>secondary</td>\n",
              "      <td>29.0</td>\n",
              "      <td>yes</td>\n",
              "      <td>2.52</td>\n",
              "      <td>1</td>\n",
              "      <td>no</td>\n",
              "      <td>Trades</td>\n",
              "      <td>0</td>\n",
              "    </tr>\n",
              "    <tr>\n",
              "      <th>2</th>\n",
              "      <td>2</td>\n",
              "      <td>33</td>\n",
              "      <td>married</td>\n",
              "      <td>secondary</td>\n",
              "      <td>2.0</td>\n",
              "      <td>yes</td>\n",
              "      <td>1.27</td>\n",
              "      <td>1</td>\n",
              "      <td>no</td>\n",
              "      <td>Self-Employed</td>\n",
              "      <td>0</td>\n",
              "    </tr>\n",
              "    <tr>\n",
              "      <th>3</th>\n",
              "      <td>5</td>\n",
              "      <td>35</td>\n",
              "      <td>married</td>\n",
              "      <td>tertiary</td>\n",
              "      <td>231.0</td>\n",
              "      <td>yes</td>\n",
              "      <td>2.32</td>\n",
              "      <td>1</td>\n",
              "      <td>no</td>\n",
              "      <td>Office Workers</td>\n",
              "      <td>0</td>\n",
              "    </tr>\n",
              "  </tbody>\n",
              "</table>\n",
              "</div>"
            ],
            "text/plain": [
              "  CustomerID  age  martial  ... response            Job2 responded\n",
              "0          0   58  married  ...       no  Office Workers         0\n",
              "1          1   44   single  ...       no          Trades         0\n",
              "2          2   33  married  ...       no   Self-Employed         0\n",
              "3          5   35  married  ...       no  Office Workers         0\n",
              "\n",
              "[4 rows x 11 columns]"
            ]
          },
          "metadata": {
            "tags": []
          },
          "execution_count": 111
        }
      ]
    },
    {
      "cell_type": "code",
      "metadata": {
        "id": "4oQ3TUsHx9WO",
        "colab_type": "code",
        "outputId": "151fd4b1-1652-40e6-e4d5-7d4c17ffcb85",
        "colab": {
          "base_uri": "https://localhost:8080/",
          "height": 204
        }
      },
      "source": [
        "corr = dffinal.corr()\n",
        "corr"
      ],
      "execution_count": 112,
      "outputs": [
        {
          "output_type": "execute_result",
          "data": {
            "text/html": [
              "<div>\n",
              "<style scoped>\n",
              "    .dataframe tbody tr th:only-of-type {\n",
              "        vertical-align: middle;\n",
              "    }\n",
              "\n",
              "    .dataframe tbody tr th {\n",
              "        vertical-align: top;\n",
              "    }\n",
              "\n",
              "    .dataframe thead th {\n",
              "        text-align: right;\n",
              "    }\n",
              "</style>\n",
              "<table border=\"1\" class=\"dataframe\">\n",
              "  <thead>\n",
              "    <tr style=\"text-align: right;\">\n",
              "      <th></th>\n",
              "      <th>age</th>\n",
              "      <th>balance</th>\n",
              "      <th>duration</th>\n",
              "      <th>campaign</th>\n",
              "      <th>responded</th>\n",
              "    </tr>\n",
              "  </thead>\n",
              "  <tbody>\n",
              "    <tr>\n",
              "      <th>age</th>\n",
              "      <td>1.000000</td>\n",
              "      <td>0.103405</td>\n",
              "      <td>-0.007422</td>\n",
              "      <td>0.003563</td>\n",
              "      <td>0.023204</td>\n",
              "    </tr>\n",
              "    <tr>\n",
              "      <th>balance</th>\n",
              "      <td>0.103405</td>\n",
              "      <td>1.000000</td>\n",
              "      <td>0.035481</td>\n",
              "      <td>-0.026482</td>\n",
              "      <td>0.069456</td>\n",
              "    </tr>\n",
              "    <tr>\n",
              "      <th>duration</th>\n",
              "      <td>-0.007422</td>\n",
              "      <td>0.035481</td>\n",
              "      <td>1.000000</td>\n",
              "      <td>-0.081852</td>\n",
              "      <td>0.400681</td>\n",
              "    </tr>\n",
              "    <tr>\n",
              "      <th>campaign</th>\n",
              "      <td>0.003563</td>\n",
              "      <td>-0.026482</td>\n",
              "      <td>-0.081852</td>\n",
              "      <td>1.000000</td>\n",
              "      <td>-0.072495</td>\n",
              "    </tr>\n",
              "    <tr>\n",
              "      <th>responded</th>\n",
              "      <td>0.023204</td>\n",
              "      <td>0.069456</td>\n",
              "      <td>0.400681</td>\n",
              "      <td>-0.072495</td>\n",
              "      <td>1.000000</td>\n",
              "    </tr>\n",
              "  </tbody>\n",
              "</table>\n",
              "</div>"
            ],
            "text/plain": [
              "                age   balance  duration  campaign  responded\n",
              "age        1.000000  0.103405 -0.007422  0.003563   0.023204\n",
              "balance    0.103405  1.000000  0.035481 -0.026482   0.069456\n",
              "duration  -0.007422  0.035481  1.000000 -0.081852   0.400681\n",
              "campaign   0.003563 -0.026482 -0.081852  1.000000  -0.072495\n",
              "responded  0.023204  0.069456  0.400681 -0.072495   1.000000"
            ]
          },
          "metadata": {
            "tags": []
          },
          "execution_count": 112
        }
      ]
    },
    {
      "cell_type": "markdown",
      "metadata": {
        "id": "7-fuKmL5MZi0",
        "colab_type": "text"
      },
      "source": [
        "From the graphs and correlation above, we can see that there is no evident linear relationship (-0.072495) between response and campaign, having more conversations with the client does not help. \n",
        "For response and duration (0.400681), they are weakly positively correlated, which means salespeople were more successful when they kept customers on the phone longer."
      ]
    },
    {
      "cell_type": "markdown",
      "metadata": {
        "id": "1m6xnj_bfTAn",
        "colab_type": "text"
      },
      "source": [
        "# Q8"
      ]
    },
    {
      "cell_type": "code",
      "metadata": {
        "id": "ywfkljEsfUSl",
        "colab_type": "code",
        "outputId": "001c1f26-7009-413f-b4dc-09f5ccb864a5",
        "colab": {
          "base_uri": "https://localhost:8080/",
          "height": 292
        }
      },
      "source": [
        "def revise(x):\n",
        "    if x < 5:\n",
        "        return x * 2\n",
        "    elif x > 25:\n",
        "        return x*2/3\n",
        "    else:\n",
        "        return x\n",
        "        \n",
        "dffinal['DurationRevised'] = dffinal['duration'].apply(lambda x: revise(x))\n",
        "dffinal.head()\n",
        "\n",
        "\n"
      ],
      "execution_count": 113,
      "outputs": [
        {
          "output_type": "execute_result",
          "data": {
            "text/html": [
              "<div>\n",
              "<style scoped>\n",
              "    .dataframe tbody tr th:only-of-type {\n",
              "        vertical-align: middle;\n",
              "    }\n",
              "\n",
              "    .dataframe tbody tr th {\n",
              "        vertical-align: top;\n",
              "    }\n",
              "\n",
              "    .dataframe thead th {\n",
              "        text-align: right;\n",
              "    }\n",
              "</style>\n",
              "<table border=\"1\" class=\"dataframe\">\n",
              "  <thead>\n",
              "    <tr style=\"text-align: right;\">\n",
              "      <th></th>\n",
              "      <th>CustomerID</th>\n",
              "      <th>age</th>\n",
              "      <th>martial</th>\n",
              "      <th>education</th>\n",
              "      <th>balance</th>\n",
              "      <th>housing</th>\n",
              "      <th>duration</th>\n",
              "      <th>campaign</th>\n",
              "      <th>response</th>\n",
              "      <th>Job2</th>\n",
              "      <th>responded</th>\n",
              "      <th>DurationRevised</th>\n",
              "    </tr>\n",
              "  </thead>\n",
              "  <tbody>\n",
              "    <tr>\n",
              "      <th>0</th>\n",
              "      <td>0</td>\n",
              "      <td>58</td>\n",
              "      <td>married</td>\n",
              "      <td>tertiary</td>\n",
              "      <td>2143.0</td>\n",
              "      <td>yes</td>\n",
              "      <td>4.35</td>\n",
              "      <td>1</td>\n",
              "      <td>no</td>\n",
              "      <td>Office Workers</td>\n",
              "      <td>0</td>\n",
              "      <td>8.70</td>\n",
              "    </tr>\n",
              "    <tr>\n",
              "      <th>1</th>\n",
              "      <td>1</td>\n",
              "      <td>44</td>\n",
              "      <td>single</td>\n",
              "      <td>secondary</td>\n",
              "      <td>29.0</td>\n",
              "      <td>yes</td>\n",
              "      <td>2.52</td>\n",
              "      <td>1</td>\n",
              "      <td>no</td>\n",
              "      <td>Trades</td>\n",
              "      <td>0</td>\n",
              "      <td>5.04</td>\n",
              "    </tr>\n",
              "    <tr>\n",
              "      <th>2</th>\n",
              "      <td>2</td>\n",
              "      <td>33</td>\n",
              "      <td>married</td>\n",
              "      <td>secondary</td>\n",
              "      <td>2.0</td>\n",
              "      <td>yes</td>\n",
              "      <td>1.27</td>\n",
              "      <td>1</td>\n",
              "      <td>no</td>\n",
              "      <td>Self-Employed</td>\n",
              "      <td>0</td>\n",
              "      <td>2.54</td>\n",
              "    </tr>\n",
              "    <tr>\n",
              "      <th>3</th>\n",
              "      <td>5</td>\n",
              "      <td>35</td>\n",
              "      <td>married</td>\n",
              "      <td>tertiary</td>\n",
              "      <td>231.0</td>\n",
              "      <td>yes</td>\n",
              "      <td>2.32</td>\n",
              "      <td>1</td>\n",
              "      <td>no</td>\n",
              "      <td>Office Workers</td>\n",
              "      <td>0</td>\n",
              "      <td>4.64</td>\n",
              "    </tr>\n",
              "    <tr>\n",
              "      <th>4</th>\n",
              "      <td>6</td>\n",
              "      <td>28</td>\n",
              "      <td>single</td>\n",
              "      <td>tertiary</td>\n",
              "      <td>447.0</td>\n",
              "      <td>yes</td>\n",
              "      <td>3.62</td>\n",
              "      <td>1</td>\n",
              "      <td>no</td>\n",
              "      <td>Office Workers</td>\n",
              "      <td>0</td>\n",
              "      <td>7.24</td>\n",
              "    </tr>\n",
              "  </tbody>\n",
              "</table>\n",
              "</div>"
            ],
            "text/plain": [
              "  CustomerID  age  martial  ...            Job2  responded DurationRevised\n",
              "0          0   58  married  ...  Office Workers          0            8.70\n",
              "1          1   44   single  ...          Trades          0            5.04\n",
              "2          2   33  married  ...   Self-Employed          0            2.54\n",
              "3          5   35  married  ...  Office Workers          0            4.64\n",
              "4          6   28   single  ...  Office Workers          0            7.24\n",
              "\n",
              "[5 rows x 12 columns]"
            ]
          },
          "metadata": {
            "tags": []
          },
          "execution_count": 113
        }
      ]
    },
    {
      "cell_type": "markdown",
      "metadata": {
        "id": "FtX-4rqHnUY6",
        "colab_type": "text"
      },
      "source": [
        "# Q9"
      ]
    },
    {
      "cell_type": "code",
      "metadata": {
        "id": "rtEVlt-ko7JK",
        "colab_type": "code",
        "outputId": "ef56154c-afb2-4014-ad28-fca6f73e4a92",
        "colab": {
          "base_uri": "https://localhost:8080/",
          "height": 269
        }
      },
      "source": [
        "corr = dffinal.corr()\n",
        "colormap = sns.diverging_palette(220, 10, as_cmap=True)\n",
        "sns.heatmap(corr, cmap=colormap, linewidths=.5, annot=True, fmt=\".5f\")\n",
        "plt.show()"
      ],
      "execution_count": 114,
      "outputs": [
        {
          "output_type": "display_data",
          "data": {
            "image/png": "[encoded data removed]",
            "text/plain": [
              "<Figure size 684x288 with 2 Axes>"
            ]
          },
          "metadata": {
            "tags": []
          }
        }
      ]
    },
    {
      "cell_type": "code",
      "metadata": {
        "id": "we9zFX0YpgRV",
        "colab_type": "code",
        "outputId": "204769ed-5ad9-4bbf-d528-092f2cf7b6a7",
        "colab": {
          "base_uri": "https://localhost:8080/",
          "height": 255
        }
      },
      "source": [
        "corr"
      ],
      "execution_count": 115,
      "outputs": [
        {
          "output_type": "execute_result",
          "data": {
            "text/html": [
              "<div>\n",
              "<style scoped>\n",
              "    .dataframe tbody tr th:only-of-type {\n",
              "        vertical-align: middle;\n",
              "    }\n",
              "\n",
              "    .dataframe tbody tr th {\n",
              "        vertical-align: top;\n",
              "    }\n",
              "\n",
              "    .dataframe thead th {\n",
              "        text-align: right;\n",
              "    }\n",
              "</style>\n",
              "<table border=\"1\" class=\"dataframe\">\n",
              "  <thead>\n",
              "    <tr style=\"text-align: right;\">\n",
              "      <th></th>\n",
              "      <th>age</th>\n",
              "      <th>balance</th>\n",
              "      <th>duration</th>\n",
              "      <th>campaign</th>\n",
              "      <th>responded</th>\n",
              "      <th>DurationRevised</th>\n",
              "    </tr>\n",
              "  </thead>\n",
              "  <tbody>\n",
              "    <tr>\n",
              "      <th>age</th>\n",
              "      <td>1.000000</td>\n",
              "      <td>0.103405</td>\n",
              "      <td>-0.007422</td>\n",
              "      <td>0.003563</td>\n",
              "      <td>0.023204</td>\n",
              "      <td>-0.009990</td>\n",
              "    </tr>\n",
              "    <tr>\n",
              "      <th>balance</th>\n",
              "      <td>0.103405</td>\n",
              "      <td>1.000000</td>\n",
              "      <td>0.035481</td>\n",
              "      <td>-0.026482</td>\n",
              "      <td>0.069456</td>\n",
              "      <td>0.032719</td>\n",
              "    </tr>\n",
              "    <tr>\n",
              "      <th>duration</th>\n",
              "      <td>-0.007422</td>\n",
              "      <td>0.035481</td>\n",
              "      <td>1.000000</td>\n",
              "      <td>-0.081852</td>\n",
              "      <td>0.400681</td>\n",
              "      <td>0.915703</td>\n",
              "    </tr>\n",
              "    <tr>\n",
              "      <th>campaign</th>\n",
              "      <td>0.003563</td>\n",
              "      <td>-0.026482</td>\n",
              "      <td>-0.081852</td>\n",
              "      <td>1.000000</td>\n",
              "      <td>-0.072495</td>\n",
              "      <td>-0.126103</td>\n",
              "    </tr>\n",
              "    <tr>\n",
              "      <th>responded</th>\n",
              "      <td>0.023204</td>\n",
              "      <td>0.069456</td>\n",
              "      <td>0.400681</td>\n",
              "      <td>-0.072495</td>\n",
              "      <td>1.000000</td>\n",
              "      <td>0.381491</td>\n",
              "    </tr>\n",
              "    <tr>\n",
              "      <th>DurationRevised</th>\n",
              "      <td>-0.009990</td>\n",
              "      <td>0.032719</td>\n",
              "      <td>0.915703</td>\n",
              "      <td>-0.126103</td>\n",
              "      <td>0.381491</td>\n",
              "      <td>1.000000</td>\n",
              "    </tr>\n",
              "  </tbody>\n",
              "</table>\n",
              "</div>"
            ],
            "text/plain": [
              "                      age   balance  ...  responded  DurationRevised\n",
              "age              1.000000  0.103405  ...   0.023204        -0.009990\n",
              "balance          0.103405  1.000000  ...   0.069456         0.032719\n",
              "duration        -0.007422  0.035481  ...   0.400681         0.915703\n",
              "campaign         0.003563 -0.026482  ...  -0.072495        -0.126103\n",
              "responded        0.023204  0.069456  ...   1.000000         0.381491\n",
              "DurationRevised -0.009990  0.032719  ...   0.381491         1.000000\n",
              "\n",
              "[6 rows x 6 columns]"
            ]
          },
          "metadata": {
            "tags": []
          },
          "execution_count": 115
        }
      ]
    },
    {
      "cell_type": "markdown",
      "metadata": {
        "id": "EOtPtz5Qqld6",
        "colab_type": "text"
      },
      "source": [
        "Based on the heatmap and correlation table, it is easy to see that three variables that had the most bearing on responded (\"yes\" for response) are duration (correlation coefficient of 0.4), duration revised (0.38) and balance (0.07). It means that these three factors had the highest positive correlation with successful response relative to other factors. "
      ]
    }
  ]
}